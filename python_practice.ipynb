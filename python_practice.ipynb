{
 "cells": [
  {
   "cell_type": "code",
   "execution_count": 4,
   "metadata": {},
   "outputs": [
    {
     "name": "stdout",
     "output_type": "stream",
     "text": [
      "               DATE_TIME  PLANT_ID       SOURCE_KEY  DC_POWER  AC_POWER  \\\n",
      "0        01-06-2020 0:00   4135001  1BY6WEcLGh8j5v7       0.0       0.0   \n",
      "1        01-06-2020 0:00   4135001  1IF53ai7Xc0U56Y       0.0       0.0   \n",
      "2        01-06-2020 0:00   4135001  3PZuoBAID5Wc2HD       0.0       0.0   \n",
      "3        01-06-2020 0:00   4135001  7JYdWkrLSPkdwr4       0.0       0.0   \n",
      "4        01-06-2020 0:00   4135001  McdE0feGgRqW7Ca       0.0       0.0   \n",
      "...                  ...       ...              ...       ...       ...   \n",
      "136471  31-05-2020 23:45   4135001  uHbuxQJl8lW7ozc       0.0       0.0   \n",
      "136472  31-05-2020 23:45   4135001  wCURE6d3bPkepu2       0.0       0.0   \n",
      "136473  31-05-2020 23:45   4135001  z9Y9gH1T5YWrNuG       0.0       0.0   \n",
      "136474  31-05-2020 23:45   4135001  zBIq5rxdHJRwDNY       0.0       0.0   \n",
      "136475  31-05-2020 23:45   4135001  zVJPv84UY57bAof       0.0       0.0   \n",
      "\n",
      "        DAILY_YIELD  TOTAL_YIELD  \n",
      "0        829.000000    6377931.0  \n",
      "1          0.000000    6311432.0  \n",
      "2          0.000000    7115304.0  \n",
      "3        730.375000    7727821.0  \n",
      "4          0.000000    7286760.0  \n",
      "...             ...          ...  \n",
      "136471  6081.000000    7165353.0  \n",
      "136472  2677.285714    6909405.0  \n",
      "136473  6300.000000    7133897.0  \n",
      "136474     0.000000    6463239.0  \n",
      "136475  6047.000000    7242024.0  \n",
      "\n",
      "[136476 rows x 7 columns]\n"
     ]
    }
   ],
   "source": [
    "import pandas as pd\n",
    "\n",
    "panda_data = pd.read_csv(\"Plant_Generation.csv\")\n",
    "\n",
    "print(panda_data)"
   ]
  }
 ],
 "metadata": {
  "kernelspec": {
   "display_name": "Python 3",
   "language": "python",
   "name": "python3"
  },
  "language_info": {
   "codemirror_mode": {
    "name": "ipython",
    "version": 3
   },
   "file_extension": ".py",
   "mimetype": "text/x-python",
   "name": "python",
   "nbconvert_exporter": "python",
   "pygments_lexer": "ipython3",
   "version": "3.12.2"
  }
 },
 "nbformat": 4,
 "nbformat_minor": 2
}
